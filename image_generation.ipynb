{
 "cells": [
  {
   "cell_type": "code",
   "execution_count": 1,
   "id": "dd063cf7-a033-4d58-a7c5-048731126f66",
   "metadata": {},
   "outputs": [],
   "source": [
    "import matplotlib\n",
    "import numpy as np\n",
    "import pandas as pd\n",
    "import itertools\n",
    "import time\n",
    "\n",
    "import matplotlib.pyplot as plt\n",
    "import matplotlib.ticker as mticker\n",
    "\n",
    "# New Library, need to use original_flavor to import candlestick_ohlc\n",
    "from mplfinance.original_flavor import candlestick_ohlc\n"
   ]
  },
  {
   "cell_type": "code",
   "execution_count": 2,
   "id": "722bced1-5d02-4f02-a1eb-011c3b47ef17",
   "metadata": {},
   "outputs": [],
   "source": [
    "class MeasureTime:\n",
    "    def __init__(self):\n",
    "        self.start = time.time()\n",
    "    def kill(self):\n",
    "        print ('Time elapsed: ' + time.strftime(\"%H:%M:%S\", time.gmtime(time.time()-self.start)))\n",
    "        del self"
   ]
  },
  {
   "cell_type": "code",
   "execution_count": 3,
   "id": "885b3004-47f7-42bc-b8ea-4989a7f491be",
   "metadata": {},
   "outputs": [],
   "source": [
    "#Notebook_timer = MeasureTime()"
   ]
  },
  {
   "cell_type": "code",
   "execution_count": 4,
   "id": "3fa13015-2a3c-4046-8080-2dd52ad22e99",
   "metadata": {},
   "outputs": [],
   "source": [
    "#Notebook_timer.kill()\n"
   ]
  },
  {
   "cell_type": "code",
   "execution_count": 5,
   "id": "d47b05af-3b6f-444b-bec1-b1105755535b",
   "metadata": {},
   "outputs": [
    {
     "data": {
      "text/html": [
       "<div>\n",
       "<style scoped>\n",
       "    .dataframe tbody tr th:only-of-type {\n",
       "        vertical-align: middle;\n",
       "    }\n",
       "\n",
       "    .dataframe tbody tr th {\n",
       "        vertical-align: top;\n",
       "    }\n",
       "\n",
       "    .dataframe thead th {\n",
       "        text-align: right;\n",
       "    }\n",
       "</style>\n",
       "<table border=\"1\" class=\"dataframe\">\n",
       "  <thead>\n",
       "    <tr style=\"text-align: right;\">\n",
       "      <th></th>\n",
       "      <th>time</th>\n",
       "      <th>open</th>\n",
       "      <th>high</th>\n",
       "      <th>low</th>\n",
       "      <th>close</th>\n",
       "      <th>Volume</th>\n",
       "    </tr>\n",
       "  </thead>\n",
       "  <tbody>\n",
       "    <tr>\n",
       "      <th>0</th>\n",
       "      <td>2021-02-25T15:30:00-05:00</td>\n",
       "      <td>3828.66</td>\n",
       "      <td>3844.93</td>\n",
       "      <td>3814.04</td>\n",
       "      <td>3829.33</td>\n",
       "      <td>0</td>\n",
       "    </tr>\n",
       "    <tr>\n",
       "      <th>1</th>\n",
       "      <td>2021-02-26T09:30:00-05:00</td>\n",
       "      <td>3847.85</td>\n",
       "      <td>3853.29</td>\n",
       "      <td>3789.54</td>\n",
       "      <td>3790.45</td>\n",
       "      <td>0</td>\n",
       "    </tr>\n",
       "    <tr>\n",
       "      <th>2</th>\n",
       "      <td>2021-02-26T10:30:00-05:00</td>\n",
       "      <td>3790.71</td>\n",
       "      <td>3842.54</td>\n",
       "      <td>3790.71</td>\n",
       "      <td>3824.71</td>\n",
       "      <td>0</td>\n",
       "    </tr>\n",
       "    <tr>\n",
       "      <th>3</th>\n",
       "      <td>2021-02-26T11:30:00-05:00</td>\n",
       "      <td>3824.46</td>\n",
       "      <td>3861.08</td>\n",
       "      <td>3823.66</td>\n",
       "      <td>3852.79</td>\n",
       "      <td>0</td>\n",
       "    </tr>\n",
       "    <tr>\n",
       "      <th>4</th>\n",
       "      <td>2021-02-26T12:30:00-05:00</td>\n",
       "      <td>3852.77</td>\n",
       "      <td>3857.82</td>\n",
       "      <td>3833.23</td>\n",
       "      <td>3850.70</td>\n",
       "      <td>0</td>\n",
       "    </tr>\n",
       "    <tr>\n",
       "      <th>...</th>\n",
       "      <td>...</td>\n",
       "      <td>...</td>\n",
       "      <td>...</td>\n",
       "      <td>...</td>\n",
       "      <td>...</td>\n",
       "      <td>...</td>\n",
       "    </tr>\n",
       "    <tr>\n",
       "      <th>2793</th>\n",
       "      <td>2022-09-27T11:30:00-04:00</td>\n",
       "      <td>3665.34</td>\n",
       "      <td>3672.25</td>\n",
       "      <td>3626.16</td>\n",
       "      <td>3635.81</td>\n",
       "      <td>287128470</td>\n",
       "    </tr>\n",
       "    <tr>\n",
       "      <th>2794</th>\n",
       "      <td>2022-09-27T12:30:00-04:00</td>\n",
       "      <td>3635.86</td>\n",
       "      <td>3644.03</td>\n",
       "      <td>3628.97</td>\n",
       "      <td>3633.21</td>\n",
       "      <td>241359220</td>\n",
       "    </tr>\n",
       "    <tr>\n",
       "      <th>2795</th>\n",
       "      <td>2022-09-27T13:30:00-04:00</td>\n",
       "      <td>3633.20</td>\n",
       "      <td>3639.86</td>\n",
       "      <td>3623.29</td>\n",
       "      <td>3635.43</td>\n",
       "      <td>238132310</td>\n",
       "    </tr>\n",
       "    <tr>\n",
       "      <th>2796</th>\n",
       "      <td>2022-09-27T14:30:00-04:00</td>\n",
       "      <td>3635.45</td>\n",
       "      <td>3659.22</td>\n",
       "      <td>3631.57</td>\n",
       "      <td>3644.06</td>\n",
       "      <td>308224350</td>\n",
       "    </tr>\n",
       "    <tr>\n",
       "      <th>2797</th>\n",
       "      <td>2022-09-27T15:30:00-04:00</td>\n",
       "      <td>3644.51</td>\n",
       "      <td>3653.96</td>\n",
       "      <td>3635.27</td>\n",
       "      <td>3647.28</td>\n",
       "      <td>639271700</td>\n",
       "    </tr>\n",
       "  </tbody>\n",
       "</table>\n",
       "<p>2798 rows × 6 columns</p>\n",
       "</div>"
      ],
      "text/plain": [
       "                           time     open     high      low    close     Volume\n",
       "0     2021-02-25T15:30:00-05:00  3828.66  3844.93  3814.04  3829.33          0\n",
       "1     2021-02-26T09:30:00-05:00  3847.85  3853.29  3789.54  3790.45          0\n",
       "2     2021-02-26T10:30:00-05:00  3790.71  3842.54  3790.71  3824.71          0\n",
       "3     2021-02-26T11:30:00-05:00  3824.46  3861.08  3823.66  3852.79          0\n",
       "4     2021-02-26T12:30:00-05:00  3852.77  3857.82  3833.23  3850.70          0\n",
       "...                         ...      ...      ...      ...      ...        ...\n",
       "2793  2022-09-27T11:30:00-04:00  3665.34  3672.25  3626.16  3635.81  287128470\n",
       "2794  2022-09-27T12:30:00-04:00  3635.86  3644.03  3628.97  3633.21  241359220\n",
       "2795  2022-09-27T13:30:00-04:00  3633.20  3639.86  3623.29  3635.43  238132310\n",
       "2796  2022-09-27T14:30:00-04:00  3635.45  3659.22  3631.57  3644.06  308224350\n",
       "2797  2022-09-27T15:30:00-04:00  3644.51  3653.96  3635.27  3647.28  639271700\n",
       "\n",
       "[2798 rows x 6 columns]"
      ]
     },
     "execution_count": 5,
     "metadata": {},
     "output_type": "execute_result"
    }
   ],
   "source": [
    "my_dataset = pd.read_csv(('SPX.csv'), header=(1))\n",
    "\n",
    "# Review the DataFrame\n",
    "my_dataset"
   ]
  },
  {
   "cell_type": "code",
   "execution_count": 6,
   "id": "c52fc1b6-676c-4633-a890-e9612bdbde02",
   "metadata": {},
   "outputs": [],
   "source": [
    "del my_dataset['time']\n",
    "del my_dataset['Volume']"
   ]
  },
  {
   "cell_type": "code",
   "execution_count": 7,
   "id": "0110f632-d05a-4e7d-a963-5716bd36f50a",
   "metadata": {},
   "outputs": [
    {
     "data": {
      "text/html": [
       "<div>\n",
       "<style scoped>\n",
       "    .dataframe tbody tr th:only-of-type {\n",
       "        vertical-align: middle;\n",
       "    }\n",
       "\n",
       "    .dataframe tbody tr th {\n",
       "        vertical-align: top;\n",
       "    }\n",
       "\n",
       "    .dataframe thead th {\n",
       "        text-align: right;\n",
       "    }\n",
       "</style>\n",
       "<table border=\"1\" class=\"dataframe\">\n",
       "  <thead>\n",
       "    <tr style=\"text-align: right;\">\n",
       "      <th></th>\n",
       "      <th>open</th>\n",
       "      <th>high</th>\n",
       "      <th>low</th>\n",
       "      <th>close</th>\n",
       "    </tr>\n",
       "  </thead>\n",
       "  <tbody>\n",
       "    <tr>\n",
       "      <th>0</th>\n",
       "      <td>3828.66</td>\n",
       "      <td>3844.93</td>\n",
       "      <td>3814.04</td>\n",
       "      <td>3829.33</td>\n",
       "    </tr>\n",
       "    <tr>\n",
       "      <th>1</th>\n",
       "      <td>3847.85</td>\n",
       "      <td>3853.29</td>\n",
       "      <td>3789.54</td>\n",
       "      <td>3790.45</td>\n",
       "    </tr>\n",
       "    <tr>\n",
       "      <th>2</th>\n",
       "      <td>3790.71</td>\n",
       "      <td>3842.54</td>\n",
       "      <td>3790.71</td>\n",
       "      <td>3824.71</td>\n",
       "    </tr>\n",
       "    <tr>\n",
       "      <th>3</th>\n",
       "      <td>3824.46</td>\n",
       "      <td>3861.08</td>\n",
       "      <td>3823.66</td>\n",
       "      <td>3852.79</td>\n",
       "    </tr>\n",
       "    <tr>\n",
       "      <th>4</th>\n",
       "      <td>3852.77</td>\n",
       "      <td>3857.82</td>\n",
       "      <td>3833.23</td>\n",
       "      <td>3850.70</td>\n",
       "    </tr>\n",
       "  </tbody>\n",
       "</table>\n",
       "</div>"
      ],
      "text/plain": [
       "      open     high      low    close\n",
       "0  3828.66  3844.93  3814.04  3829.33\n",
       "1  3847.85  3853.29  3789.54  3790.45\n",
       "2  3790.71  3842.54  3790.71  3824.71\n",
       "3  3824.46  3861.08  3823.66  3852.79\n",
       "4  3852.77  3857.82  3833.23  3850.70"
      ]
     },
     "execution_count": 7,
     "metadata": {},
     "output_type": "execute_result"
    }
   ],
   "source": [
    "my_dataset.head(5)\n"
   ]
  },
  {
   "cell_type": "code",
   "execution_count": 8,
   "id": "0a9b295d-bba4-4f14-9245-ab050378bd43",
   "metadata": {},
   "outputs": [],
   "source": [
    "def graph_data_ohlc(dataset):\n",
    "    fig = plt.figure()\n",
    "    ax1 = plt.subplot2grid((1,1), (0,0))\n",
    "    closep=dataset[:,[3]]\n",
    "    highp=dataset[:,[1]]\n",
    "    lowp=dataset[:,[2]]\n",
    "    openp=dataset[:,[0]]\n",
    "    date=range(len(closep))\n",
    "\n",
    "    x = 0\n",
    "    y = len(date)\n",
    "    ohlc = []\n",
    "    while x < y:\n",
    "        append_me = date[x], openp[x], highp[x], lowp[x], closep[x]\n",
    "        ohlc.append(append_me)\n",
    "        x+=1\n",
    "    candlestick_ohlc(ax1, ohlc, width=0.4, colorup='#77d879', colordown='#db3f3f')\n",
    "    for label in ax1.xaxis.get_ticklabels():\n",
    "        label.set_rotation(45)\n",
    "    ax1.xaxis.set_major_locator(mticker.MaxNLocator(10))\n",
    "    ax1.grid(True)\n",
    "    plt.xlabel('Candle')\n",
    "    plt.ylabel('Price')\n",
    "    plt.title('Candlestick sample representation')\n",
    "\n",
    "    plt.subplots_adjust(left=0.09, bottom=0.20, right=0.94, top=0.90, wspace=0.2, hspace=0)\n",
    "    plt.show()"
   ]
  },
  {
   "cell_type": "code",
   "execution_count": 9,
   "id": "02cbc26d-ec67-4771-8a32-44bdb7b98fd3",
   "metadata": {},
   "outputs": [
    {
     "name": "stderr",
     "output_type": "stream",
     "text": [
      "/Users/colefrederick/opt/anaconda3/envs/dev/lib/python3.7/site-packages/numpy/core/fromnumeric.py:43: VisibleDeprecationWarning: Creating an ndarray from ragged nested sequences (which is a list-or-tuple of lists-or-tuples-or ndarrays with different lengths or shapes) is deprecated. If you meant to do this, you must specify 'dtype=object' when creating the ndarray.\n",
      "  result = getattr(asarray(obj), method)(*args, **kwds)\n"
     ]
    },
    {
     "data": {
      "image/png": "[encoded data removed]",
      "text/plain": [
       "<Figure size 432x288 with 1 Axes>"
      ]
     },
     "metadata": {
      "needs_background": "light"
     },
     "output_type": "display_data"
    }
   ],
   "source": [
    "graph_data_ohlc(my_dataset.tail(1000).values)\n"
   ]
  },
  {
   "cell_type": "code",
   "execution_count": 10,
   "id": "898bb2e0-c17b-401f-9797-46284f71927f",
   "metadata": {},
   "outputs": [],
   "source": [
    "def my_generator(data,lookback):\n",
    "    final_output = []\n",
    "    counter = 0\n",
    "    first_row = 0\n",
    "    arr = np.empty((1,lookback,4), int)\n",
    "    for a in range(len(data)-lookback):\n",
    "        temp_list = []\n",
    "        for candle in data[first_row:first_row+lookback]:\n",
    "            temp_list.append(candle)\n",
    "        temp_list2 = np.asarray(temp_list)\n",
    "        templist3 = [temp_list2]\n",
    "        templist4 = np.asarray(templist3)\n",
    "        arr = np.append(arr, templist4, axis=0)\n",
    "        first_row=first_row+1\n",
    "    return arr"
   ]
  },
  {
   "cell_type": "code",
   "execution_count": 11,
   "id": "0b0b60bc-2ba7-4f39-a15f-503e5625408d",
   "metadata": {},
   "outputs": [
    {
     "name": "stdout",
     "output_type": "stream",
     "text": [
      "Time elapsed: 00:00:00\n"
     ]
    }
   ],
   "source": [
    "cell_timer = MeasureTime()\n",
    "three_dim_sequence = np.asarray(my_generator(my_dataset.values[1:],3))\n",
    "cell_timer.kill()"
   ]
  },
  {
   "cell_type": "code",
   "execution_count": 12,
   "id": "802aadac-eba1-41b8-9939-c5869ba1ed7b",
   "metadata": {},
   "outputs": [
    {
     "name": "stdout",
     "output_type": "stream",
     "text": [
      "Step 1\n"
     ]
    },
    {
     "data": {
      "image/png": "[encoded data removed]",
      "text/plain": [
       "<Figure size 432x288 with 1 Axes>"
      ]
     },
     "metadata": {
      "needs_background": "light"
     },
     "output_type": "display_data"
    },
    {
     "name": "stdout",
     "output_type": "stream",
     "text": [
      "Step 2\n"
     ]
    },
    {
     "data": {
      "image/png": "[encoded data removed]",
      "text/plain": [
       "<Figure size 432x288 with 1 Axes>"
      ]
     },
     "metadata": {
      "needs_background": "light"
     },
     "output_type": "display_data"
    },
    {
     "name": "stdout",
     "output_type": "stream",
     "text": [
      "Step 3\n"
     ]
    },
    {
     "data": {
      "image/png": "[encoded data removed]",
      "text/plain": [
       "<Figure size 432x288 with 1 Axes>"
      ]
     },
     "metadata": {
      "needs_background": "light"
     },
     "output_type": "display_data"
    },
    {
     "name": "stdout",
     "output_type": "stream",
     "text": [
      "Step 4\n"
     ]
    },
    {
     "data": {
      "image/png": "[encoded data removed]",
      "text/plain": [
       "<Figure size 432x288 with 1 Axes>"
      ]
     },
     "metadata": {
      "needs_background": "light"
     },
     "output_type": "display_data"
    },
    {
     "name": "stdout",
     "output_type": "stream",
     "text": [
      "Step 5\n"
     ]
    },
    {
     "data": {
      "image/png": "[encoded data removed]",
      "text/plain": [
       "<Figure size 432x288 with 1 Axes>"
      ]
     },
     "metadata": {
      "needs_background": "light"
     },
     "output_type": "display_data"
    }
   ],
   "source": [
    "counter=0\n",
    "for candle in three_dim_sequence[1000:1005]:\n",
    "    counter=counter+1\n",
    "    print('Step ' + str(counter))\n",
    "    graph_data_ohlc(candle)"
   ]
  },
  {
   "cell_type": "code",
   "execution_count": 13,
   "id": "72fef91e-542d-4bcf-8792-3f03c83b95ae",
   "metadata": {},
   "outputs": [],
   "source": [
    "def ohlc_to_candlestick(conversion_array):\n",
    "    candlestick_data = [0,0,0,0]\n",
    "\n",
    "    if conversion_array[3]>conversion_array[0]:\n",
    "        candle_type=1\n",
    "        wicks_up=conversion_array[1]-conversion_array[3]\n",
    "        wicks_down=conversion_array[2]-conversion_array[0]\n",
    "        body_size=conversion_array[3]-conversion_array[0]\n",
    "\n",
    "    else:\n",
    "        candle_type=0\n",
    "        wicks_up=conversion_array[1]-conversion_array[0]\n",
    "        wicks_down=conversion_array[2]-conversion_array[3]\n",
    "        body_size=conversion_array[1]-conversion_array[3]\n",
    "\n",
    "\n",
    "    if wicks_up < 0:wicks_up=wicks_up*(-1)\n",
    "    if wicks_down < 0:wicks_down=wicks_down*(-1)\n",
    "    if body_size < 0:body_size=body_size*(-1)\n",
    "    candlestick_data[0]=candle_type\n",
    "    candlestick_data[1]=round(round(wicks_up,5)*10000,2)\n",
    "    candlestick_data[2]=round(round(wicks_down,5)*10000,2)\n",
    "    candlestick_data[3]=round(round(body_size,5)*10000,2)\n",
    "\n",
    "    return candlestick_data"
   ]
  },
  {
   "cell_type": "code",
   "execution_count": 16,
   "id": "5dbf09d1-f2b2-4b70-b37d-b7bde0da7bbf",
   "metadata": {},
   "outputs": [
    {
     "name": "stdout",
     "output_type": "stream",
     "text": [
      "Time elapsed: 00:00:00\n"
     ]
    }
   ],
   "source": [
    "cell_timer = MeasureTime()\n",
    "one_candle_data_ohlc=three_dim_sequence[1000:1010][5][1]\n",
    "cell_timer.kill()"
   ]
  },
  {
   "cell_type": "code",
   "execution_count": 17,
   "id": "4b1f3a95-5136-4e70-b432-1cf0756e1503",
   "metadata": {},
   "outputs": [
    {
     "data": {
      "text/plain": [
       "array([4360.68, 4365.61, 4352.9 , 4353.34])"
      ]
     },
     "execution_count": 17,
     "metadata": {},
     "output_type": "execute_result"
    }
   ],
   "source": [
    "one_candle_data_ohlc\n"
   ]
  },
  {
   "cell_type": "code",
   "execution_count": 18,
   "id": "95fc6450-cb17-441f-90e6-e9e9bcaf1d01",
   "metadata": {},
   "outputs": [],
   "source": [
    "one_candle_data_ohlc_candle=ohlc_to_candlestick(one_candle_data_ohlc)\n"
   ]
  },
  {
   "cell_type": "code",
   "execution_count": 19,
   "id": "3383ed3a-4cf6-4fb6-b78f-15d953c393b0",
   "metadata": {},
   "outputs": [
    {
     "data": {
      "text/plain": [
       "[0, 49300.0, 4400.0, 122700.0]"
      ]
     },
     "execution_count": 19,
     "metadata": {},
     "output_type": "execute_result"
    }
   ],
   "source": [
    "one_candle_data_ohlc_candle\n"
   ]
  },
  {
   "cell_type": "code",
   "execution_count": 20,
   "id": "545310a8-5afe-4fef-97b0-b75f735227be",
   "metadata": {},
   "outputs": [],
   "source": [
    "def my_generator_candle(data,lookback):\n",
    "    first_row = 0\n",
    "    arr = np.empty((1,lookback,4), int)\n",
    "    for a in range(len(data)-lookback):\n",
    "        temp_list = []\n",
    "        for candle in data[first_row:first_row+lookback]:\n",
    "            converted_data = ohlc_to_candlestick(candle)\n",
    "            temp_list.append(converted_data)\n",
    "        temp_list2 = np.asarray(temp_list)\n",
    "        templist3 = [temp_list2]\n",
    "        templist4 = np.asarray(templist3)\n",
    "        arr = np.append(arr, templist4, axis=0)\n",
    "        first_row=first_row+1\n",
    "    return arr"
   ]
  },
  {
   "cell_type": "code",
   "execution_count": 21,
   "id": "5a1751de-f9df-49b8-928d-3a38d341e61d",
   "metadata": {},
   "outputs": [],
   "source": [
    "three_dim_sequence_candle=my_generator_candle(my_dataset.values[1:],3)\n"
   ]
  },
  {
   "cell_type": "code",
   "execution_count": 22,
   "id": "77f767bd-e3b9-458f-be4c-02fe6332f4cf",
   "metadata": {},
   "outputs": [
    {
     "data": {
      "text/plain": [
       "array([], shape=(0, 3, 4), dtype=float64)"
      ]
     },
     "execution_count": 22,
     "metadata": {},
     "output_type": "execute_result"
    }
   ],
   "source": [
    "three_dim_sequence_candle[5000:5005]\n"
   ]
  },
  {
   "cell_type": "code",
   "execution_count": null,
   "id": "70161bfe-e36f-40ad-b726-cac386067bb4",
   "metadata": {},
   "outputs": [],
   "source": []
  }
 ],
 "metadata": {
  "kernelspec": {
   "display_name": "dev",
   "language": "python",
   "name": "dev"
  },
  "language_info": {
   "codemirror_mode": {
    "name": "ipython",
    "version": 3
   },
   "file_extension": ".py",
   "mimetype": "text/x-python",
   "name": "python",
   "nbconvert_exporter": "python",
   "pygments_lexer": "ipython3",
   "version": "3.7.13"
  }
 },
 "nbformat": 4,
 "nbformat_minor": 5
}
